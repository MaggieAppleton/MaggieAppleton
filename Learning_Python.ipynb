{
  "nbformat": 4,
  "nbformat_minor": 0,
  "metadata": {
    "colab": {
      "provenance": [],
      "authorship_tag": "ABX9TyM2MKymFYV2N2WFHaqdY6cB",
      "include_colab_link": true
    },
    "kernelspec": {
      "name": "python3",
      "display_name": "Python 3"
    },
    "language_info": {
      "name": "python"
    }
  },
  "cells": [
    {
      "cell_type": "markdown",
      "metadata": {
        "id": "view-in-github",
        "colab_type": "text"
      },
      "source": [
        "<a href=\"https://colab.research.google.com/github/MaggieAppleton/MaggieAppleton/blob/main/Learning_Python.ipynb\" target=\"_parent\"><img src=\"https://colab.research.google.com/assets/colab-badge.svg\" alt=\"Open In Colab\"/></a>"
      ]
    },
    {
      "cell_type": "markdown",
      "source": [
        "# Basic Python Commands"
      ],
      "metadata": {
        "id": "DWgc9F_3iE2E"
      }
    },
    {
      "cell_type": "code",
      "source": [
        "# Dictionary\n",
        "person = {\n",
        "    \"name\": \"Mark\",\n",
        "    \"address\": {\"city\": \"London\", \"country\": \"UK\"},\n",
        "    \"age\": 40\n",
        "}\n",
        "\n",
        "# Accessing dict values\n",
        "city = person['address']['city']\n",
        "print(city)"
      ],
      "metadata": {
        "colab": {
          "base_uri": "https://localhost:8080/"
        },
        "id": "HfAoT9L6ZKWb",
        "outputId": "0af5e616-5f06-4731-8015-d2c14aeed61e"
      },
      "execution_count": null,
      "outputs": [
        {
          "output_type": "stream",
          "name": "stdout",
          "text": [
            "London\n"
          ]
        }
      ]
    },
    {
      "cell_type": "code",
      "source": [
        "# Removing and returning values\n",
        "removed_address = person.pop(\"address\")\n",
        "print(removed_address)\n",
        "print(person)\n",
        "\n",
        "# Get is a safe way to query a key.\n",
        "# If the key doesn't exist, it won't throw an error.\n",
        "gender = person.get(\"gender\", \"Male\") # Pass a default value as the second argument in case no address exists. Otherwise returns \"None\"\n",
        "print(f\"Gender: {gender}\")\n",
        "\n",
        "# Accessing via square brackets on a non-existent key will throw an error,\n",
        "# error_gender = person[\"gender\"]\n",
        "# print(error_gender)"
      ],
      "metadata": {
        "colab": {
          "base_uri": "https://localhost:8080/"
        },
        "id": "M5duiyKWZK_2",
        "outputId": "71c3eec8-ef77-44ca-b1b1-d5436661d4be"
      },
      "execution_count": null,
      "outputs": [
        {
          "output_type": "stream",
          "name": "stdout",
          "text": [
            "{'city': 'London', 'country': 'UK'}\n",
            "{'name': 'Mark', 'age': 40}\n",
            "Gender: Male\n"
          ]
        }
      ]
    },
    {
      "cell_type": "code",
      "source": [
        "# Loop through keys and values\n",
        "for key, value in person.items():\n",
        "    print(f\"{key}: {value}\")\n",
        "\n",
        "# Access only values\n",
        "all_values = person.values()\n",
        "print(all_values)\n",
        "\n",
        "# Access only keys\n",
        "all_keys = person.keys()\n",
        "print(all_keys)\n",
        "\n",
        "# Check if key-value pair exists\n",
        "if 'age' in person:\n",
        "    print(\"Person has an age\")"
      ],
      "metadata": {
        "colab": {
          "base_uri": "https://localhost:8080/"
        },
        "id": "JNfuzFqVZOlS",
        "outputId": "0192f5fe-1442-41d1-c4f5-ea31e7b35fcf"
      },
      "execution_count": null,
      "outputs": [
        {
          "output_type": "stream",
          "name": "stdout",
          "text": [
            "name: Mark\n",
            "age: 40\n",
            "dict_values(['Mark', 40])\n",
            "dict_keys(['name', 'age'])\n",
            "Person has an age\n"
          ]
        }
      ]
    },
    {
      "cell_type": "code",
      "source": [
        "# Update a value\n",
        "\n",
        "person[\"name\"] = \"Harry\"\n",
        "print(person[\"name\"])"
      ],
      "metadata": {
        "colab": {
          "base_uri": "https://localhost:8080/"
        },
        "id": "PrYS9KGQi4bO",
        "outputId": "62b97d94-704e-4372-e3f6-15bbfb81a215"
      },
      "execution_count": null,
      "outputs": [
        {
          "output_type": "stream",
          "name": "stdout",
          "text": [
            "Harry\n"
          ]
        }
      ]
    },
    {
      "cell_type": "code",
      "source": [
        "# Loop through a list\n",
        "\n",
        "fruits = [\"apple\", \"banana\", \"cherry\"]\n",
        "for fruit in fruits:\n",
        "    print(fruit)"
      ],
      "metadata": {
        "colab": {
          "base_uri": "https://localhost:8080/"
        },
        "id": "CnJph2CfZP6l",
        "outputId": "1d4ddaa9-5e4c-4259-fbf7-64cd8e6c6705"
      },
      "execution_count": null,
      "outputs": [
        {
          "output_type": "stream",
          "name": "stdout",
          "text": [
            "apple\n",
            "banana\n",
            "cherry\n"
          ]
        }
      ]
    },
    {
      "cell_type": "code",
      "source": [
        "# Filter a list of dictionaries\n",
        "\n",
        "groceries = [\n",
        "    {\"id\": 1, \"name\": \"Banana\", \"quantity\": 12, \"onSale\": True},\n",
        "    {\"id\": 2, \"name\": \"Squash\", \"quantity\": 3,},\n",
        "    {\"id\": 3, \"name\": \"Kumquat\", \"quantity\": 36, \"onSale\": True},\n",
        "    {\"id\": 4, \"name\": \"Pineapple\", \"quantity\": 231},\n",
        "    {\"id\": 5, \"quantity\": 2},\n",
        "    {\"id\": 6, \"name\": \"Cabbage\"},\n",
        "]\n",
        "\n",
        "for item in groceries:\n",
        "  if \"name\" in item and \"quantity\" in item:\n",
        "    print(f\"We have {item['quantity']} {item['name']}s left\")\n",
        "\n",
        "\n",
        "for item in groceries:\n",
        "  if \"quantity\" in item and \"name\" in item:\n",
        "    if item[\"quantity\"] < 5:\n",
        "      print(f\"{item['name']} is running low\")"
      ],
      "metadata": {
        "colab": {
          "base_uri": "https://localhost:8080/"
        },
        "id": "T4Zb7sSaj1b6",
        "outputId": "096d86c7-dc28-4428-b5c5-8d930f9c50fd"
      },
      "execution_count": null,
      "outputs": [
        {
          "output_type": "stream",
          "name": "stdout",
          "text": [
            "We have 12 Bananas left\n",
            "We have 3 Squashs left\n",
            "We have 36 Kumquats left\n",
            "We have 231 Pineapples left\n",
            "Squash is running low\n"
          ]
        }
      ]
    },
    {
      "cell_type": "code",
      "source": [
        "for item in groceries:\n",
        "  if not item.get(\"onSale\"):\n",
        "    if \"name\" in item:\n",
        "      print(item[\"name\"])"
      ],
      "metadata": {
        "colab": {
          "base_uri": "https://localhost:8080/"
        },
        "id": "GdY-rpi5lpwO",
        "outputId": "0eae8cd7-6fe3-4e08-d91d-2769d00f685b"
      },
      "execution_count": null,
      "outputs": [
        {
          "output_type": "stream",
          "name": "stdout",
          "text": [
            "Squash\n",
            "Pineapple\n",
            "Cabbage\n"
          ]
        }
      ]
    },
    {
      "cell_type": "code",
      "source": [
        "# Find the relative percentage based on two input numbers.\n",
        "\n",
        "# Get the input numbers\n",
        "num1 = float(input(\"Enter the first number: \"))\n",
        "num2 = float(input(\"Enter the second number: \"))\n",
        "\n",
        "# Calculate the relative percentage\n",
        "relative_percentage = ((num2 - num1) / num1) * 100\n",
        "\n",
        "# Print the result\n",
        "print(f\"The relative percentage is: {relative_percentage:.2f}%\")"
      ],
      "metadata": {
        "colab": {
          "base_uri": "https://localhost:8080/"
        },
        "id": "_WIK_cQCrM0T",
        "outputId": "8c137d4b-cd3a-4bcc-a758-c9c1a18622b4"
      },
      "execution_count": null,
      "outputs": [
        {
          "output_type": "stream",
          "name": "stdout",
          "text": [
            "Enter the first number: 1\n",
            "Enter the second number: 2\n",
            "The relative percentage is: 100.00%\n"
          ]
        }
      ]
    },
    {
      "cell_type": "code",
      "source": [
        "pokemon = [\"charmander\", \"pikachu\", \"bulbasaur\", \"squirtle\"]\n",
        "\n",
        "print(pokemon[-1]) # Last item\n",
        "print(pokemon[0]) # First item"
      ],
      "metadata": {
        "colab": {
          "base_uri": "https://localhost:8080/"
        },
        "id": "eqDtdV0R0orC",
        "outputId": "b3b2097d-6db8-4dc9-df03-ecce9f0efd3b"
      },
      "execution_count": null,
      "outputs": [
        {
          "output_type": "stream",
          "name": "stdout",
          "text": [
            "squirtle\n",
            "charmander\n"
          ]
        }
      ]
    },
    {
      "cell_type": "code",
      "source": [
        "def greet(name, greeting=\"Hello\"):\n",
        "  return f\"{greeting}, {name}\"\n",
        "\n",
        "print(greet(\"Maggie\"))\n",
        "print(greet(\"Maggie\", \"Howdy\"))"
      ],
      "metadata": {
        "colab": {
          "base_uri": "https://localhost:8080/"
        },
        "id": "ofJ788qQmzuv",
        "outputId": "ca4b8bc1-0b8d-4e26-ac1d-3791d6c5d2bd"
      },
      "execution_count": null,
      "outputs": [
        {
          "output_type": "stream",
          "name": "stdout",
          "text": [
            "Hello, Maggie\n",
            "Howdy, Maggie\n"
          ]
        }
      ]
    },
    {
      "cell_type": "code",
      "source": [
        "response = \"The analysis shows <answer>Python is great</answer> and more text.\"\n",
        "\n",
        "if \"<answer>\" in response:\n",
        "    print(\"Found answer tags!\")\n",
        "else:\n",
        "    print(\"No answer tags found\")"
      ],
      "metadata": {
        "id": "qWw4wqDz0FKh",
        "outputId": "87600422-2f97-4d9e-acdf-caced3a034da",
        "colab": {
          "base_uri": "https://localhost:8080/"
        }
      },
      "execution_count": null,
      "outputs": [
        {
          "output_type": "stream",
          "name": "stdout",
          "text": [
            "Found answer tags!\n"
          ]
        }
      ]
    }
  ]
}